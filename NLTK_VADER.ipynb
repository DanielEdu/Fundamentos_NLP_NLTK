{
  "nbformat": 4,
  "nbformat_minor": 0,
  "metadata": {
    "colab": {
      "name": "NLTK_VADER.ipynb",
      "provenance": [],
      "authorship_tag": "ABX9TyNIQWnoH7E4L5JdWBb2GCfg",
      "include_colab_link": true
    },
    "kernelspec": {
      "name": "python3",
      "display_name": "Python 3"
    },
    "language_info": {
      "name": "python"
    }
  },
  "cells": [
    {
      "cell_type": "markdown",
      "metadata": {
        "id": "view-in-github",
        "colab_type": "text"
      },
      "source": [
        "<a href=\"https://colab.research.google.com/github/DanielEdu/Fundamentos_NLP_NLTK/blob/main/NLTK_VADER.ipynb\" target=\"_parent\"><img src=\"https://colab.research.google.com/assets/colab-badge.svg\" alt=\"Open In Colab\"/></a>"
      ]
    },
    {
      "cell_type": "code",
      "metadata": {
        "colab": {
          "base_uri": "https://localhost:8080/"
        },
        "id": "zuECnovAD9l0",
        "outputId": "a4b1de77-f57d-4d75-9cf9-b2c61cbb065e"
      },
      "source": [
        "import nltk\n",
        "nltk.download('cess_esp')\n",
        "from nltk.sentiment.vader import SentimentIntensityAnalyzer\n"
      ],
      "execution_count": 1,
      "outputs": [
        {
          "output_type": "stream",
          "text": [
            "[nltk_data] Downloading package cess_esp to /root/nltk_data...\n",
            "[nltk_data]   Unzipping corpora/cess_esp.zip.\n"
          ],
          "name": "stdout"
        },
        {
          "output_type": "stream",
          "text": [
            "/usr/local/lib/python3.7/dist-packages/nltk/twitter/__init__.py:20: UserWarning: The twython library has not been installed. Some functionality from the twitter package will not be available.\n",
            "  warnings.warn(\"The twython library has not been installed. \"\n"
          ],
          "name": "stderr"
        }
      ]
    },
    {
      "cell_type": "code",
      "metadata": {
        "colab": {
          "base_uri": "https://localhost:8080/"
        },
        "id": "o2DU9uswEYC8",
        "outputId": "a02325f6-7743-414b-e00f-facb475495f1"
      },
      "source": [
        "sid = SentimentIntensityAnalyzer()\n",
        "\n",
        "a = \"This computer us a good deal.\"\n",
        "b = \"This computer is a very good deal!!!\"\n",
        "c = \"This computer is a very good deal!!! :D\"\n",
        "\n",
        "print(sid.polarity_scores(a))\n",
        "print(sid.polarity_scores(b))\n",
        "print(sid.polarity_scores(c))"
      ],
      "execution_count": null,
      "outputs": [
        {
          "output_type": "stream",
          "text": [
            "{'neg': 0.0, 'neu': 0.58, 'pos': 0.42, 'compound': 0.4404}\n",
            "{'neg': 0.0, 'neu': 0.551, 'pos': 0.449, 'compound': 0.6211}\n",
            "{'neg': 0.0, 'neu': 0.374, 'pos': 0.626, 'compound': 0.8543}\n"
          ],
          "name": "stdout"
        }
      ]
    }
  ]
}